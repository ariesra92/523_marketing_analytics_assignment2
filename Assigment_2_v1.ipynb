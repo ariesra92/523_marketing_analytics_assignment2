{
 "cells": [
  {
   "cell_type": "markdown",
   "metadata": {},
   "source": [
    "# MEF BDA - Marketing Analytics / Assigment 2\n",
    "## US Adult Income Prediction\n",
    "##### Esra Arı\n",
    "#####  May 6, 2018"
   ]
  },
  {
   "cell_type": "markdown",
   "metadata": {},
   "source": [
    "# Introduction\n",
    "\n",
    "The adult dataset is from the 1994 Census database. It is also known as “Census Income” dataset. Details of this dataset can be found at UCI Machine Learning Repository. Following steps will be done respectively.\n",
    "\n",
    "\n",
    "You can find all the information below link.\n",
    "\n",
    "https://archive.ics.uci.edu/ml/datasets/adult\n",
    "\n",
    "1- Handle missing data\n",
    "\n",
    "2- Fit a logistic regression\n",
    "\n",
    "3- Calculate lift and 10 Decile for logistic model\n",
    "\n",
    "4- Random Forest\n",
    "\n",
    "5- SVM\n",
    "\n",
    "6- Fit a simple Xgboost model with a cross validation and use Cross validation params  (not need parameter tuning)\n",
    "\n",
    "7- Show variable importance for Xgboost model\n",
    "\n",
    "A case study for this dataset\n",
    "\n",
    "https://rpubs.com/H_Zhu/235617\n"
   ]
  },
  {
   "cell_type": "markdown",
   "metadata": {},
   "source": [
    "# 1-Exploratory Data Analysis, Data Cleaning, Missing treatment"
   ]
  },
  {
   "cell_type": "code",
   "execution_count": 1,
   "metadata": {},
   "outputs": [
    {
     "name": "stderr",
     "output_type": "stream",
     "text": [
      "Installing package into 'C:/Users/aries/Documents/R/win-library/3.4'\n",
      "(as 'lib' is unspecified)\n"
     ]
    },
    {
     "name": "stdout",
     "output_type": "stream",
     "text": [
      "package 'ggplot2' successfully unpacked and MD5 sums checked\n",
      "\n",
      "The downloaded binary packages are in\n",
      "\tC:\\Users\\aries\\AppData\\Local\\Temp\\RtmpkfYd9D\\downloaded_packages\n"
     ]
    },
    {
     "name": "stderr",
     "output_type": "stream",
     "text": [
      "Installing package into 'C:/Users/aries/Documents/R/win-library/3.4'\n",
      "(as 'lib' is unspecified)\n"
     ]
    },
    {
     "name": "stdout",
     "output_type": "stream",
     "text": [
      "package 'lattice' successfully unpacked and MD5 sums checked\n",
      "\n",
      "The downloaded binary packages are in\n",
      "\tC:\\Users\\aries\\AppData\\Local\\Temp\\RtmpkfYd9D\\downloaded_packages\n"
     ]
    },
    {
     "name": "stderr",
     "output_type": "stream",
     "text": [
      "Installing package into 'C:/Users/aries/Documents/R/win-library/3.4'\n",
      "(as 'lib' is unspecified)\n"
     ]
    },
    {
     "name": "stdout",
     "output_type": "stream",
     "text": [
      "package 'vcd' successfully unpacked and MD5 sums checked\n",
      "\n",
      "The downloaded binary packages are in\n",
      "\tC:\\Users\\aries\\AppData\\Local\\Temp\\RtmpkfYd9D\\downloaded_packages\n"
     ]
    },
    {
     "name": "stderr",
     "output_type": "stream",
     "text": [
      "Installing package into 'C:/Users/aries/Documents/R/win-library/3.4'\n",
      "(as 'lib' is unspecified)\n"
     ]
    },
    {
     "name": "stdout",
     "output_type": "stream",
     "text": [
      "package 'ROCR' successfully unpacked and MD5 sums checked\n",
      "\n",
      "The downloaded binary packages are in\n",
      "\tC:\\Users\\aries\\AppData\\Local\\Temp\\RtmpkfYd9D\\downloaded_packages\n"
     ]
    },
    {
     "name": "stderr",
     "output_type": "stream",
     "text": [
      "Installing package into 'C:/Users/aries/Documents/R/win-library/3.4'\n",
      "(as 'lib' is unspecified)\n",
      "also installing the dependency 'data.table'\n",
      "\n"
     ]
    },
    {
     "name": "stdout",
     "output_type": "stream",
     "text": [
      "package 'data.table' successfully unpacked and MD5 sums checked\n",
      "package 'xgboost' successfully unpacked and MD5 sums checked\n",
      "\n",
      "The downloaded binary packages are in\n",
      "\tC:\\Users\\aries\\AppData\\Local\\Temp\\RtmpkfYd9D\\downloaded_packages\n"
     ]
    },
    {
     "name": "stderr",
     "output_type": "stream",
     "text": [
      "Installing package into 'C:/Users/aries/Documents/R/win-library/3.4'\n",
      "(as 'lib' is unspecified)\n"
     ]
    },
    {
     "name": "stdout",
     "output_type": "stream",
     "text": [
      "package 'mlr' successfully unpacked and MD5 sums checked\n",
      "\n",
      "The downloaded binary packages are in\n",
      "\tC:\\Users\\aries\\AppData\\Local\\Temp\\RtmpkfYd9D\\downloaded_packages\n"
     ]
    },
    {
     "name": "stderr",
     "output_type": "stream",
     "text": [
      "Installing package into 'C:/Users/aries/Documents/R/win-library/3.4'\n",
      "(as 'lib' is unspecified)\n"
     ]
    },
    {
     "name": "stdout",
     "output_type": "stream",
     "text": [
      "package 'plyr' successfully unpacked and MD5 sums checked\n"
     ]
    },
    {
     "name": "stderr",
     "output_type": "stream",
     "text": [
      "Warning message:\n",
      "\"cannot remove prior installation of package 'plyr'\""
     ]
    },
    {
     "name": "stdout",
     "output_type": "stream",
     "text": [
      "\n",
      "The downloaded binary packages are in\n",
      "\tC:\\Users\\aries\\AppData\\Local\\Temp\\RtmpkfYd9D\\downloaded_packages\n"
     ]
    },
    {
     "name": "stderr",
     "output_type": "stream",
     "text": [
      "Installing package into 'C:/Users/aries/Documents/R/win-library/3.4'\n",
      "(as 'lib' is unspecified)\n"
     ]
    },
    {
     "name": "stdout",
     "output_type": "stream",
     "text": [
      "package 'data.table' successfully unpacked and MD5 sums checked\n",
      "\n",
      "The downloaded binary packages are in\n",
      "\tC:\\Users\\aries\\AppData\\Local\\Temp\\RtmpkfYd9D\\downloaded_packages\n"
     ]
    },
    {
     "name": "stderr",
     "output_type": "stream",
     "text": [
      "Warning message:\n",
      "\"package 'ggplot2' was built under R version 3.4.4\""
     ]
    },
    {
     "ename": "ERROR",
     "evalue": "Error: package or namespace load failed for 'ggplot2' in loadNamespace(j <- i[[1L]], c(lib.loc, .libPaths()), versionCheck = vI[[j]]):\n there is no package called 'plyr'\n",
     "output_type": "error",
     "traceback": [
      "Error: package or namespace load failed for 'ggplot2' in loadNamespace(j <- i[[1L]], c(lib.loc, .libPaths()), versionCheck = vI[[j]]):\n there is no package called 'plyr'\nTraceback:\n",
      "1. library(ggplot2)",
      "2. tryCatch({\n .     attr(package, \"LibPath\") <- which.lib.loc\n .     ns <- loadNamespace(package, lib.loc)\n .     env <- attachNamespace(ns, pos = pos, deps)\n . }, error = function(e) {\n .     P <- if (!is.null(cc <- conditionCall(e))) \n .         paste(\" in\", deparse(cc)[1L])\n .     else \"\"\n .     msg <- gettextf(\"package or namespace load failed for %s%s:\\n %s\", \n .         sQuote(package), P, conditionMessage(e))\n .     if (logical.return) \n .         message(paste(\"Error:\", msg), domain = NA)\n .     else stop(msg, call. = FALSE, domain = NA)\n . })",
      "3. tryCatchList(expr, classes, parentenv, handlers)",
      "4. tryCatchOne(expr, names, parentenv, handlers[[1L]])",
      "5. value[[3L]](cond)",
      "6. stop(msg, call. = FALSE, domain = NA)"
     ]
    }
   ],
   "source": [
    "chooseCRANmirror(graphics=FALSE, ind=1)\n",
    "knitr::opts_chunk$set(echo = TRUE)\n",
    "install.packages(\"ggplot2\")\n",
    "install.packages(\"lattice\")\n",
    "install.packages(\"vcd\")\n",
    "install.packages(\"ROCR\")\n",
    "install.packages(\"xgboost\")\n",
    "install.packages(\"mlr\")\n",
    "install.packages(\"plyr\")\n",
    "install.packages(\"data.table\")\n",
    "\n",
    "\n",
    "\n",
    "# call in R packages for use in this study\n",
    "library(ggplot2)\n",
    "library(lattice)  # multivariate data visualization\n",
    "library(vcd)  # data visualization for categorical variables\n",
    "library(ROCR)  # evaluation of binary classifiers\n",
    "library(xgboost)\n",
    "library(data.table)\n",
    "require(mlr)\n",
    "library(ggplot2)\n",
    "library(plyr)\n",
    "library(stats)\n",
    "library(data.table)\n",
    "\n",
    "\n"
   ]
  },
  {
   "cell_type": "code",
   "execution_count": 2,
   "metadata": {
    "collapsed": true
   },
   "outputs": [],
   "source": [
    "adult <- read.table('https://archive.ics.uci.edu/ml/machine-learning-databases/adult/adult.data', \n",
    "                    sep = ',', fill = F, strip.white = T)"
   ]
  },
  {
   "cell_type": "code",
   "execution_count": 3,
   "metadata": {},
   "outputs": [
    {
     "data": {
      "text/plain": [
       "      age                   workclass         fnlwgt       \n",
       " Min.   :17.00   Private         :22696   Min.   :  12285  \n",
       " 1st Qu.:28.00   Self-emp-not-inc: 2541   1st Qu.: 117827  \n",
       " Median :37.00   Local-gov       : 2093   Median : 178356  \n",
       " Mean   :38.58   ?               : 1836   Mean   : 189778  \n",
       " 3rd Qu.:48.00   State-gov       : 1298   3rd Qu.: 237051  \n",
       " Max.   :90.00   Self-emp-inc    : 1116   Max.   :1484705  \n",
       "                 (Other)         :  981                    \n",
       "        education     education_num                 marital_status \n",
       " HS-grad     :10501   Min.   : 1.00   Divorced             : 4443  \n",
       " Some-college: 7291   1st Qu.: 9.00   Married-AF-spouse    :   23  \n",
       " Bachelors   : 5355   Median :10.00   Married-civ-spouse   :14976  \n",
       " Masters     : 1723   Mean   :10.08   Married-spouse-absent:  418  \n",
       " Assoc-voc   : 1382   3rd Qu.:12.00   Never-married        :10683  \n",
       " 11th        : 1175   Max.   :16.00   Separated            : 1025  \n",
       " (Other)     : 5134                   Widowed              :  993  \n",
       "           occupation           relationship                   race      \n",
       " Prof-specialty :4140   Husband       :13193   Amer-Indian-Eskimo:  311  \n",
       " Craft-repair   :4099   Not-in-family : 8305   Asian-Pac-Islander: 1039  \n",
       " Exec-managerial:4066   Other-relative:  981   Black             : 3124  \n",
       " Adm-clerical   :3770   Own-child     : 5068   Other             :  271  \n",
       " Sales          :3650   Unmarried     : 3446   White             :27816  \n",
       " Other-service  :3295   Wife          : 1568                             \n",
       " (Other)        :9541                                                    \n",
       "     sex         capital_gain    capital_loss    hours_per_week \n",
       " Female:10771   Min.   :    0   Min.   :   0.0   Min.   : 1.00  \n",
       " Male  :21790   1st Qu.:    0   1st Qu.:   0.0   1st Qu.:40.00  \n",
       "                Median :    0   Median :   0.0   Median :40.00  \n",
       "                Mean   : 1078   Mean   :  87.3   Mean   :40.44  \n",
       "                3rd Qu.:    0   3rd Qu.:   0.0   3rd Qu.:45.00  \n",
       "                Max.   :99999   Max.   :4356.0   Max.   :99.00  \n",
       "                                                                \n",
       "       native_country    income     \n",
       " United-States:29170   <=50K:24720  \n",
       " Mexico       :  643   >50K : 7841  \n",
       " ?            :  583                \n",
       " Philippines  :  198                \n",
       " Germany      :  137                \n",
       " Canada       :  121                \n",
       " (Other)      : 1709                "
      ]
     },
     "metadata": {},
     "output_type": "display_data"
    }
   ],
   "source": [
    "colnames(adult) <- c('age', 'workclass', 'fnlwgt', 'education', \n",
    "                     'education_num', 'marital_status', 'occupation', 'relationship', 'race', 'sex', \n",
    "                     'capital_gain', 'capital_loss', 'hours_per_week', 'native_country', 'income')\n",
    "\n",
    "summary(adult)"
   ]
  },
  {
   "cell_type": "code",
   "execution_count": 147,
   "metadata": {},
   "outputs": [
    {
     "data": {},
     "metadata": {},
     "output_type": "display_data"
    },
    {
     "data": {
      "image/png": "[encoded data removed]",
      "text/plain": [
       "plot without title"
      ]
     },
     "metadata": {},
     "output_type": "display_data"
    }
   ],
   "source": [
    "# histogram of age by income group\n",
    "ggplot(adult) + aes(x=as.numeric(age), group=income, fill=income) + \n",
    "  geom_histogram(binwidth=1, color='black')"
   ]
  },
  {
   "cell_type": "code",
   "execution_count": 4,
   "metadata": {
    "collapsed": true
   },
   "outputs": [],
   "source": [
    "adult$fnlwgt <- NULL"
   ]
  },
  {
   "cell_type": "markdown",
   "metadata": {},
   "source": [
    "The continuous variable fnlwgt represents final weight, which is the number of units in the target population that the responding unit represents. It is excluded from dataset because it is no self-explanatory."
   ]
  },
  {
   "cell_type": "code",
   "execution_count": 149,
   "metadata": {},
   "outputs": [
    {
     "data": {
      "text/html": [
       "<dl class=dl-horizontal>\n",
       "\t<dt>?</dt>\n",
       "\t\t<dd>1836</dd>\n",
       "\t<dt>Federal-gov</dt>\n",
       "\t\t<dd>960</dd>\n",
       "\t<dt>Local-gov</dt>\n",
       "\t\t<dd>2093</dd>\n",
       "\t<dt>Never-worked</dt>\n",
       "\t\t<dd>7</dd>\n",
       "\t<dt>Private</dt>\n",
       "\t\t<dd>22696</dd>\n",
       "\t<dt>Self-emp-inc</dt>\n",
       "\t\t<dd>1116</dd>\n",
       "\t<dt>Self-emp-not-inc</dt>\n",
       "\t\t<dd>2541</dd>\n",
       "\t<dt>State-gov</dt>\n",
       "\t\t<dd>1298</dd>\n",
       "\t<dt>Without-pay</dt>\n",
       "\t\t<dd>14</dd>\n",
       "</dl>\n"
      ],
      "text/latex": [
       "\\begin{description*}\n",
       "\\item[?] 1836\n",
       "\\item[Federal-gov] 960\n",
       "\\item[Local-gov] 2093\n",
       "\\item[Never-worked] 7\n",
       "\\item[Private] 22696\n",
       "\\item[Self-emp-inc] 1116\n",
       "\\item[Self-emp-not-inc] 2541\n",
       "\\item[State-gov] 1298\n",
       "\\item[Without-pay] 14\n",
       "\\end{description*}\n"
      ],
      "text/markdown": [
       "?\n",
       ":   1836Federal-gov\n",
       ":   960Local-gov\n",
       ":   2093Never-worked\n",
       ":   7Private\n",
       ":   22696Self-emp-inc\n",
       ":   1116Self-emp-not-inc\n",
       ":   2541State-gov\n",
       ":   1298Without-pay\n",
       ":   14\n",
       "\n"
      ],
      "text/plain": [
       "               ?      Federal-gov        Local-gov     Never-worked \n",
       "            1836              960             2093                7 \n",
       "         Private     Self-emp-inc Self-emp-not-inc        State-gov \n",
       "           22696             1116             2541             1298 \n",
       "     Without-pay \n",
       "              14 "
      ]
     },
     "metadata": {},
     "output_type": "display_data"
    }
   ],
   "source": [
    "summary(adult$workclass)"
   ]
  },
  {
   "cell_type": "code",
   "execution_count": 5,
   "metadata": {},
   "outputs": [
    {
     "data": {
      "text/html": [
       "<dl class=dl-horizontal>\n",
       "\t<dt>Government</dt>\n",
       "\t\t<dd>4351</dd>\n",
       "\t<dt>Other/Unknown</dt>\n",
       "\t\t<dd>1857</dd>\n",
       "\t<dt>Private</dt>\n",
       "\t\t<dd>22696</dd>\n",
       "\t<dt>Self-Employed</dt>\n",
       "\t\t<dd>3657</dd>\n",
       "</dl>\n"
      ],
      "text/latex": [
       "\\begin{description*}\n",
       "\\item[Government] 4351\n",
       "\\item[Other/Unknown] 1857\n",
       "\\item[Private] 22696\n",
       "\\item[Self-Employed] 3657\n",
       "\\end{description*}\n"
      ],
      "text/markdown": [
       "Government\n",
       ":   4351Other/Unknown\n",
       ":   1857Private\n",
       ":   22696Self-Employed\n",
       ":   3657\n",
       "\n"
      ],
      "text/plain": [
       "   Government Other/Unknown       Private Self-Employed \n",
       "         4351          1857         22696          3657 "
      ]
     },
     "metadata": {},
     "output_type": "display_data"
    }
   ],
   "source": [
    "levels(adult$workclass)[1] <- 'Unknown'\n",
    "\n",
    "# combine into Government job\n",
    "adult$workclass <- gsub('^Federal-gov', 'Government', adult$workclass)\n",
    "adult$workclass <- gsub('^Local-gov', 'Government', adult$workclass)\n",
    "adult$workclass <- gsub('^State-gov', 'Government', adult$workclass) \n",
    "\n",
    "# combine into Self-Employed job\n",
    "adult$workclass <- gsub('^Self-emp-inc', 'Self-Employed', adult$workclass)\n",
    "adult$workclass <- gsub('^Self-emp-not-inc', 'Self-Employed', adult$workclass)\n",
    "\n",
    "# combine into Other/Unknown\n",
    "adult$workclass <- gsub('^Never-worked', 'Other', adult$workclass)\n",
    "adult$workclass <- gsub('^Without-pay', 'Other', adult$workclass)\n",
    "adult$workclass <- gsub('^Other', 'Other/Unknown', adult$workclass)\n",
    "adult$workclass <- gsub('^Unknown', 'Other/Unknown', adult$workclass)\n",
    "\n",
    "adult$workclass <- as.factor(adult$workclass)\n",
    "summary(adult$workclass)"
   ]
  },
  {
   "cell_type": "code",
   "execution_count": 151,
   "metadata": {},
   "outputs": [
    {
     "data": {
      "text/html": [
       "<dl class=dl-horizontal>\n",
       "\t<dt>?</dt>\n",
       "\t\t<dd>1843</dd>\n",
       "\t<dt>Adm-clerical</dt>\n",
       "\t\t<dd>3770</dd>\n",
       "\t<dt>Armed-Forces</dt>\n",
       "\t\t<dd>9</dd>\n",
       "\t<dt>Craft-repair</dt>\n",
       "\t\t<dd>4099</dd>\n",
       "\t<dt>Exec-managerial</dt>\n",
       "\t\t<dd>4066</dd>\n",
       "\t<dt>Farming-fishing</dt>\n",
       "\t\t<dd>994</dd>\n",
       "\t<dt>Handlers-cleaners</dt>\n",
       "\t\t<dd>1370</dd>\n",
       "\t<dt>Machine-op-inspct</dt>\n",
       "\t\t<dd>2002</dd>\n",
       "\t<dt>Other-service</dt>\n",
       "\t\t<dd>3295</dd>\n",
       "\t<dt>Priv-house-serv</dt>\n",
       "\t\t<dd>149</dd>\n",
       "\t<dt>Prof-specialty</dt>\n",
       "\t\t<dd>4140</dd>\n",
       "\t<dt>Protective-serv</dt>\n",
       "\t\t<dd>649</dd>\n",
       "\t<dt>Sales</dt>\n",
       "\t\t<dd>3650</dd>\n",
       "\t<dt>Tech-support</dt>\n",
       "\t\t<dd>928</dd>\n",
       "\t<dt>Transport-moving</dt>\n",
       "\t\t<dd>1597</dd>\n",
       "</dl>\n"
      ],
      "text/latex": [
       "\\begin{description*}\n",
       "\\item[?] 1843\n",
       "\\item[Adm-clerical] 3770\n",
       "\\item[Armed-Forces] 9\n",
       "\\item[Craft-repair] 4099\n",
       "\\item[Exec-managerial] 4066\n",
       "\\item[Farming-fishing] 994\n",
       "\\item[Handlers-cleaners] 1370\n",
       "\\item[Machine-op-inspct] 2002\n",
       "\\item[Other-service] 3295\n",
       "\\item[Priv-house-serv] 149\n",
       "\\item[Prof-specialty] 4140\n",
       "\\item[Protective-serv] 649\n",
       "\\item[Sales] 3650\n",
       "\\item[Tech-support] 928\n",
       "\\item[Transport-moving] 1597\n",
       "\\end{description*}\n"
      ],
      "text/markdown": [
       "?\n",
       ":   1843Adm-clerical\n",
       ":   3770Armed-Forces\n",
       ":   9Craft-repair\n",
       ":   4099Exec-managerial\n",
       ":   4066Farming-fishing\n",
       ":   994Handlers-cleaners\n",
       ":   1370Machine-op-inspct\n",
       ":   2002Other-service\n",
       ":   3295Priv-house-serv\n",
       ":   149Prof-specialty\n",
       ":   4140Protective-serv\n",
       ":   649Sales\n",
       ":   3650Tech-support\n",
       ":   928Transport-moving\n",
       ":   1597\n",
       "\n"
      ],
      "text/plain": [
       "                ?      Adm-clerical      Armed-Forces      Craft-repair \n",
       "             1843              3770                 9              4099 \n",
       "  Exec-managerial   Farming-fishing Handlers-cleaners Machine-op-inspct \n",
       "             4066               994              1370              2002 \n",
       "    Other-service   Priv-house-serv    Prof-specialty   Protective-serv \n",
       "             3295               149              4140               649 \n",
       "            Sales      Tech-support  Transport-moving \n",
       "             3650               928              1597 "
      ]
     },
     "metadata": {},
     "output_type": "display_data"
    }
   ],
   "source": [
    "summary(adult$occupation)"
   ]
  },
  {
   "cell_type": "code",
   "execution_count": 6,
   "metadata": {},
   "outputs": [
    {
     "data": {
      "text/html": [
       "<dl class=dl-horizontal>\n",
       "\t<dt>Blue-Collar</dt>\n",
       "\t\t<dd>10062</dd>\n",
       "\t<dt>Other/Unknown</dt>\n",
       "\t\t<dd>1852</dd>\n",
       "\t<dt>Professional</dt>\n",
       "\t\t<dd>4140</dd>\n",
       "\t<dt>Sales</dt>\n",
       "\t\t<dd>3650</dd>\n",
       "\t<dt>Service</dt>\n",
       "\t\t<dd>5021</dd>\n",
       "\t<dt>White-Collar</dt>\n",
       "\t\t<dd>7836</dd>\n",
       "</dl>\n"
      ],
      "text/latex": [
       "\\begin{description*}\n",
       "\\item[Blue-Collar] 10062\n",
       "\\item[Other/Unknown] 1852\n",
       "\\item[Professional] 4140\n",
       "\\item[Sales] 3650\n",
       "\\item[Service] 5021\n",
       "\\item[White-Collar] 7836\n",
       "\\end{description*}\n"
      ],
      "text/markdown": [
       "Blue-Collar\n",
       ":   10062Other/Unknown\n",
       ":   1852Professional\n",
       ":   4140Sales\n",
       ":   3650Service\n",
       ":   5021White-Collar\n",
       ":   7836\n",
       "\n"
      ],
      "text/plain": [
       "  Blue-Collar Other/Unknown  Professional         Sales       Service \n",
       "        10062          1852          4140          3650          5021 \n",
       " White-Collar \n",
       "         7836 "
      ]
     },
     "metadata": {},
     "output_type": "display_data"
    }
   ],
   "source": [
    "levels(adult$occupation)[1] <- 'Unknown'\n",
    "adult$occupation <- gsub('Adm-clerical', 'White-Collar', adult$occupation)\n",
    "adult$occupation <- gsub('Craft-repair', 'Blue-Collar', adult$occupation)\n",
    "adult$occupation <- gsub('Exec-managerial', 'White-Collar', adult$occupation)\n",
    "adult$occupation <- gsub('Farming-fishing', 'Blue-Collar', adult$occupation)\n",
    "adult$occupation <- gsub('Handlers-cleaners', 'Blue-Collar', adult$occupation)\n",
    "adult$occupation <- gsub('Machine-op-inspct', 'Blue-Collar', adult$occupation)\n",
    "adult$occupation <- gsub('Other-service', 'Service', adult$occupation)\n",
    "adult$occupation <- gsub('Priv-house-serv', 'Service', adult$occupation)\n",
    "adult$occupation <- gsub('Prof-specialty', 'Professional', adult$occupation)\n",
    "adult$occupation <- gsub('Protective-serv', 'Service', adult$occupation)\n",
    "adult$occupation <- gsub('Tech-support', 'Service', adult$occupation)\n",
    "adult$occupation <- gsub('Transport-moving', 'Blue-Collar', adult$occupation)\n",
    "adult$occupation <- gsub('Unknown', 'Other/Unknown', adult$occupation)\n",
    "adult$occupation <- gsub('Armed-Forces', 'Other/Unknown', adult$occupation)\n",
    "adult$occupation <- as.factor(adult$occupation)\n",
    "summary(adult$occupation)"
   ]
  },
  {
   "cell_type": "code",
   "execution_count": 153,
   "metadata": {},
   "outputs": [
    {
     "data": {
      "text/html": [
       "<dl class=dl-horizontal>\n",
       "\t<dt>Divorced</dt>\n",
       "\t\t<dd>4443</dd>\n",
       "\t<dt>Married-AF-spouse</dt>\n",
       "\t\t<dd>23</dd>\n",
       "\t<dt>Married-civ-spouse</dt>\n",
       "\t\t<dd>14976</dd>\n",
       "\t<dt>Married-spouse-absent</dt>\n",
       "\t\t<dd>418</dd>\n",
       "\t<dt>Never-married</dt>\n",
       "\t\t<dd>10683</dd>\n",
       "\t<dt>Separated</dt>\n",
       "\t\t<dd>1025</dd>\n",
       "\t<dt>Widowed</dt>\n",
       "\t\t<dd>993</dd>\n",
       "</dl>\n"
      ],
      "text/latex": [
       "\\begin{description*}\n",
       "\\item[Divorced] 4443\n",
       "\\item[Married-AF-spouse] 23\n",
       "\\item[Married-civ-spouse] 14976\n",
       "\\item[Married-spouse-absent] 418\n",
       "\\item[Never-married] 10683\n",
       "\\item[Separated] 1025\n",
       "\\item[Widowed] 993\n",
       "\\end{description*}\n"
      ],
      "text/markdown": [
       "Divorced\n",
       ":   4443Married-AF-spouse\n",
       ":   23Married-civ-spouse\n",
       ":   14976Married-spouse-absent\n",
       ":   418Never-married\n",
       ":   10683Separated\n",
       ":   1025Widowed\n",
       ":   993\n",
       "\n"
      ],
      "text/plain": [
       "             Divorced     Married-AF-spouse    Married-civ-spouse \n",
       "                 4443                    23                 14976 \n",
       "Married-spouse-absent         Never-married             Separated \n",
       "                  418                 10683                  1025 \n",
       "              Widowed \n",
       "                  993 "
      ]
     },
     "metadata": {},
     "output_type": "display_data"
    }
   ],
   "source": [
    "summary(adult$marital_status)"
   ]
  },
  {
   "cell_type": "code",
   "execution_count": 7,
   "metadata": {},
   "outputs": [
    {
     "data": {
      "text/html": [
       "<dl class=dl-horizontal>\n",
       "\t<dt>Divorced</dt>\n",
       "\t\t<dd>4443</dd>\n",
       "\t<dt>Married</dt>\n",
       "\t\t<dd>15417</dd>\n",
       "\t<dt>Separated</dt>\n",
       "\t\t<dd>1025</dd>\n",
       "\t<dt>Single</dt>\n",
       "\t\t<dd>10683</dd>\n",
       "\t<dt>Widowed</dt>\n",
       "\t\t<dd>993</dd>\n",
       "</dl>\n"
      ],
      "text/latex": [
       "\\begin{description*}\n",
       "\\item[Divorced] 4443\n",
       "\\item[Married] 15417\n",
       "\\item[Separated] 1025\n",
       "\\item[Single] 10683\n",
       "\\item[Widowed] 993\n",
       "\\end{description*}\n"
      ],
      "text/markdown": [
       "Divorced\n",
       ":   4443Married\n",
       ":   15417Separated\n",
       ":   1025Single\n",
       ":   10683Widowed\n",
       ":   993\n",
       "\n"
      ],
      "text/plain": [
       " Divorced   Married Separated    Single   Widowed \n",
       "     4443     15417      1025     10683       993 "
      ]
     },
     "metadata": {},
     "output_type": "display_data"
    }
   ],
   "source": [
    "adult$marital_status <- gsub('Married-AF-spouse', 'Married', adult$marital_status)\n",
    "adult$marital_status <- gsub('Married-civ-spouse', 'Married', adult$marital_status)\n",
    "adult$marital_status <- gsub('Married-spouse-absent', 'Married', adult$marital_status)\n",
    "adult$marital_status <- gsub('Never-married', 'Single', adult$marital_status)\n",
    "adult$marital_status <- as.factor(adult$marital_status)\n",
    "summary(adult$marital_status)"
   ]
  },
  {
   "cell_type": "code",
   "execution_count": 8,
   "metadata": {},
   "outputs": [
    {
     "data": {
      "text/html": [
       "0.916710174748933"
      ],
      "text/latex": [
       "0.916710174748933"
      ],
      "text/markdown": [
       "0.916710174748933"
      ],
      "text/plain": [
       "[1] 0.9167102"
      ]
     },
     "metadata": {},
     "output_type": "display_data"
    }
   ],
   "source": [
    "# percentage of observatiosn with no capital gain or loss\n",
    "sum(adult$capital_gain == 0)/length(adult$capital_gain)"
   ]
  },
  {
   "cell_type": "code",
   "execution_count": 9,
   "metadata": {},
   "outputs": [
    {
     "data": {
      "text/html": [
       "0.953349098614907"
      ],
      "text/latex": [
       "0.953349098614907"
      ],
      "text/markdown": [
       "0.953349098614907"
      ],
      "text/plain": [
       "[1] 0.9533491"
      ]
     },
     "metadata": {},
     "output_type": "display_data"
    }
   ],
   "source": [
    "sum(adult$capital_loss == 0)/length(adult$capital_loss)"
   ]
  },
  {
   "cell_type": "markdown",
   "metadata": {},
   "source": [
    "In fact, most observations have zero capital_gain and/or capital_loss. Similarly, there native_country displays high skewness as most observations are from United States. Therefore, these three variables are excluded from the analysis as well."
   ]
  },
  {
   "cell_type": "code",
   "execution_count": 10,
   "metadata": {
    "collapsed": true
   },
   "outputs": [],
   "source": [
    "adult$capital_gain <- NULL\n",
    "adult$capital_loss <- NULL\n",
    "adult$native_country <- NULL\n",
    "adult$education  <- NULL\n",
    "adult$relationship <- NULL\n"
   ]
  },
  {
   "cell_type": "code",
   "execution_count": 11,
   "metadata": {},
   "outputs": [
    {
     "data": {
      "text/plain": [
       "      age                workclass     education_num     marital_status \n",
       " Min.   :17.00   Government   : 4351   Min.   : 1.00   Divorced : 4443  \n",
       " 1st Qu.:28.00   Other/Unknown: 1857   1st Qu.: 9.00   Married  :15417  \n",
       " Median :37.00   Private      :22696   Median :10.00   Separated: 1025  \n",
       " Mean   :38.58   Self-Employed: 3657   Mean   :10.08   Single   :10683  \n",
       " 3rd Qu.:48.00                         3rd Qu.:12.00   Widowed  :  993  \n",
       " Max.   :90.00                         Max.   :16.00                    \n",
       "         occupation                    race           sex       \n",
       " Blue-Collar  :10062   Amer-Indian-Eskimo:  311   Female:10771  \n",
       " Other/Unknown: 1852   Asian-Pac-Islander: 1039   Male  :21790  \n",
       " Professional : 4140   Black             : 3124                 \n",
       " Sales        : 3650   Other             :  271                 \n",
       " Service      : 5021   White             :27816                 \n",
       " White-Collar : 7836                                            \n",
       " hours_per_week    income     \n",
       " Min.   : 1.00   <=50K:24720  \n",
       " 1st Qu.:40.00   >50K : 7841  \n",
       " Median :40.00                \n",
       " Mean   :40.44                \n",
       " 3rd Qu.:45.00                \n",
       " Max.   :99.00                "
      ]
     },
     "metadata": {},
     "output_type": "display_data"
    }
   ],
   "source": [
    "summary(adult)"
   ]
  },
  {
   "cell_type": "code",
   "execution_count": 12,
   "metadata": {},
   "outputs": [
    {
     "name": "stdout",
     "output_type": "stream",
     "text": [
      "'data.frame':\t32561 obs. of  9 variables:\n",
      " $ age           : int  39 50 38 53 28 37 49 52 31 42 ...\n",
      " $ workclass     : Factor w/ 4 levels \"Government\",\"Other/Unknown\",..: 1 4 3 3 3 3 3 4 3 3 ...\n",
      " $ education_num : int  13 13 9 7 13 14 5 9 14 13 ...\n",
      " $ marital_status: Factor w/ 5 levels \"Divorced\",\"Married\",..: 4 2 1 2 2 2 2 2 4 2 ...\n",
      " $ occupation    : Factor w/ 6 levels \"Blue-Collar\",..: 6 6 1 1 3 6 5 6 3 6 ...\n",
      " $ race          : Factor w/ 5 levels \"Amer-Indian-Eskimo\",..: 5 5 5 3 3 5 3 5 5 5 ...\n",
      " $ sex           : Factor w/ 2 levels \"Female\",\"Male\": 2 2 2 2 1 1 1 2 1 2 ...\n",
      " $ hours_per_week: int  40 13 40 40 40 40 16 45 50 40 ...\n",
      " $ income        : Factor w/ 2 levels \"<=50K\",\">50K\": 1 1 1 1 1 1 1 2 2 2 ...\n"
     ]
    }
   ],
   "source": [
    "str(adult)"
   ]
  },
  {
   "cell_type": "markdown",
   "metadata": {},
   "source": [
    "# 2-Fit a logistic regression"
   ]
  },
  {
   "cell_type": "markdown",
   "metadata": {
    "collapsed": true
   },
   "source": [
    "80% of the original data is used as the training set, while the rest 20% is used as test set."
   ]
  },
  {
   "cell_type": "code",
   "execution_count": 159,
   "metadata": {
    "collapsed": true
   },
   "outputs": [],
   "source": [
    "splitdf <- function(dataframe, seed=1234) {\n",
    "  if (!is.null(seed)) set.seed(seed)\n",
    "  index <- 1:nrow(dataframe)\n",
    "  trainindex <- sample(index, trunc(round(length(index)*0.8)))\n",
    "  trainset <- dataframe[trainindex, ]\n",
    "  testset <- dataframe[-trainindex, ]\n",
    "  list(trainset=trainset,testset=testset)\n",
    "}\n",
    "    \n",
    "tr <-splitdf(adult)\n",
    "training_set <- data.frame(tr$trainset)\n",
    "testing_set <- data.frame(tr$testset)\n"
   ]
  },
  {
   "cell_type": "markdown",
   "metadata": {},
   "source": [
    "A logistic regression using income as the response variable, and all other 8 variables as predictors is fitted. Its parameter estimates and confidence intervals are reported as below."
   ]
  },
  {
   "cell_type": "code",
   "execution_count": 160,
   "metadata": {},
   "outputs": [
    {
     "name": "stdout",
     "output_type": "stream",
     "text": [
      "\n",
      "Call:\n",
      "glm(formula = income ~ ., family = binomial(\"logit\"), data = training_set)\n",
      "\n",
      "Deviance Residuals: \n",
      "    Min       1Q   Median       3Q      Max  \n",
      "-2.7450  -0.5810  -0.2514  -0.0642   3.3234  \n",
      "\n",
      "Coefficients:\n",
      "                         Estimate Std. Error z value Pr(>|z|)    \n",
      "(Intercept)             -9.580585   0.281525 -34.031  < 2e-16 ***\n",
      "age                      0.029931   0.001653  18.105  < 2e-16 ***\n",
      "workclassOther/Unknown  -1.497645   0.772113  -1.940 0.052420 .  \n",
      "workclassPrivate         0.053867   0.053367   1.009 0.312791    \n",
      "workclassSelf-Employed  -0.190033   0.069290  -2.743 0.006096 ** \n",
      "education_num            0.319979   0.009415  33.986  < 2e-16 ***\n",
      "marital_statusMarried    1.954146   0.065965  29.624  < 2e-16 ***\n",
      "marital_statusSeparated -0.218152   0.161028  -1.355 0.175500    \n",
      "marital_statusSingle    -0.600133   0.082464  -7.277 3.40e-13 ***\n",
      "marital_statusWidowed   -0.114768   0.150922  -0.760 0.446985    \n",
      "occupationOther/Unknown  1.164045   0.772132   1.508 0.131664    \n",
      "occupationProfessional   0.826650   0.067133  12.314  < 2e-16 ***\n",
      "occupationSales          0.560709   0.064130   8.743  < 2e-16 ***\n",
      "occupationService        0.255853   0.067134   3.811 0.000138 ***\n",
      "occupationWhite-Collar   0.806810   0.052569  15.348  < 2e-16 ***\n",
      "raceAsian-Pac-Islander   0.296236   0.250816   1.181 0.237567    \n",
      "raceBlack                0.456894   0.240701   1.898 0.057672 .  \n",
      "raceOther               -0.210436   0.357271  -0.589 0.555855    \n",
      "raceWhite                0.661107   0.230463   2.869 0.004123 ** \n",
      "sexMale                  0.413356   0.051800   7.980 1.47e-15 ***\n",
      "hours_per_week           0.031660   0.001637  19.341  < 2e-16 ***\n",
      "---\n",
      "Signif. codes:  0 '***' 0.001 '**' 0.01 '*' 0.05 '.' 0.1 ' ' 1\n",
      "\n",
      "(Dispersion parameter for binomial family taken to be 1)\n",
      "\n",
      "    Null deviance: 28873  on 26048  degrees of freedom\n",
      "Residual deviance: 18995  on 26028  degrees of freedom\n",
      "AIC: 19037\n",
      "\n",
      "Number of Fisher Scoring iterations: 6\n",
      "\n"
     ]
    }
   ],
   "source": [
    "m1 <- glm(income ~ ., data = training_set, family = binomial('logit'))\n",
    "print(summary(m1))"
   ]
  },
  {
   "cell_type": "code",
   "execution_count": 161,
   "metadata": {},
   "outputs": [
    {
     "name": "stdout",
     "output_type": "stream",
     "text": [
      "Analysis of Deviance Table\n",
      "\n",
      "Model: binomial, link: logit\n",
      "\n",
      "Response: income\n",
      "\n",
      "Terms added sequentially (first to last)\n",
      "\n",
      "\n",
      "               Df Deviance Resid. Df Resid. Dev  Pr(>Chi)    \n",
      "NULL                           26048      28873              \n",
      "age             1   1440.8     26047      27433 < 2.2e-16 ***\n",
      "workclass       3    445.7     26044      26987 < 2.2e-16 ***\n",
      "education_num   1   3033.5     26043      23953 < 2.2e-16 ***\n",
      "marital_status  4   4164.6     26039      19789 < 2.2e-16 ***\n",
      "occupation      5    226.9     26034      19562 < 2.2e-16 ***\n",
      "race            4     51.7     26030      19510 1.625e-10 ***\n",
      "sex             1    127.8     26029      19382 < 2.2e-16 ***\n",
      "hours_per_week  1    387.6     26028      18995 < 2.2e-16 ***\n",
      "---\n",
      "Signif. codes:  0 '***' 0.001 '**' 0.01 '*' 0.05 '.' 0.1 ' ' 1\n"
     ]
    }
   ],
   "source": [
    "print(anova(m1, test=\"Chisq\"))"
   ]
  },
  {
   "cell_type": "code",
   "execution_count": 169,
   "metadata": {
    "collapsed": true
   },
   "outputs": [],
   "source": [
    "training_set$Predict_Prob_Response <- predict.glm(m1, type = \"response\") \n",
    "testing_set$Predict_Prob_Response <- predict(m1, testing_set, type = 'response')"
   ]
  },
  {
   "cell_type": "code",
   "execution_count": 170,
   "metadata": {},
   "outputs": [
    {
     "data": {
      "text/plain": [
       "      age                workclass     education_num     marital_status \n",
       " Min.   :17.00   Government   : 3533   Min.   : 1.00   Divorced : 3556  \n",
       " 1st Qu.:28.00   Other/Unknown: 1458   1st Qu.: 9.00   Married  :12282  \n",
       " Median :37.00   Private      :18182   Median :10.00   Separated:  820  \n",
       " Mean   :38.59   Self-Employed: 2876   Mean   :10.08   Single   : 8590  \n",
       " 3rd Qu.:48.00                         3rd Qu.:12.00   Widowed  :  801  \n",
       " Max.   :90.00                         Max.   :16.00                    \n",
       "         occupation                   race           sex        hours_per_week \n",
       " Blue-Collar  :8040   Amer-Indian-Eskimo:  254   Female: 8640   Min.   : 1.00  \n",
       " Other/Unknown:1454   Asian-Pac-Islander:  840   Male  :17409   1st Qu.:40.00  \n",
       " Professional :3368   Black             : 2478                  Median :40.00  \n",
       " Sales        :2896   Other             :  230                  Mean   :40.42  \n",
       " Service      :3980   White             :22247                  3rd Qu.:45.00  \n",
       " White-Collar :6311                                             Max.   :99.00  \n",
       "   income      Predict_Prob_Response Predict_Response\n",
       " <=50K:19726   Min.   :0.0004407     NO :11925       \n",
       " >50K : 6323   1st Qu.:0.0294528     YES:14124       \n",
       "               Median :0.1288048                     \n",
       "               Mean   :0.2427348                     \n",
       "               3rd Qu.:0.3904412                     \n",
       "               Max.   :0.9837222                     "
      ]
     },
     "metadata": {},
     "output_type": "display_data"
    },
    {
     "data": {
      "text/plain": [
       "      age                workclass    education_num     marital_status\n",
       " Min.   :17.00   Government   : 818   Min.   : 1.00   Divorced : 887  \n",
       " 1st Qu.:28.00   Other/Unknown: 399   1st Qu.: 9.00   Married  :3135  \n",
       " Median :37.00   Private      :4514   Median :10.00   Separated: 205  \n",
       " Mean   :38.55   Self-Employed: 781   Mean   :10.07   Single   :2093  \n",
       " 3rd Qu.:47.00                        3rd Qu.:12.00   Widowed  : 192  \n",
       " Max.   :90.00                        Max.   :16.00                   \n",
       "         occupation                   race          sex       hours_per_week \n",
       " Blue-Collar  :2022   Amer-Indian-Eskimo:  57   Female:2131   Min.   : 1.00  \n",
       " Other/Unknown: 398   Asian-Pac-Islander: 199   Male  :4381   1st Qu.:40.00  \n",
       " Professional : 772   Black             : 646                 Median :40.00  \n",
       " Sales        : 754   Other             :  41                 Mean   :40.49  \n",
       " Service      :1041   White             :5569                 3rd Qu.:45.00  \n",
       " White-Collar :1525                                           Max.   :99.00  \n",
       "   income     Predict_Prob_Response\n",
       " <=50K:4994   Min.   :0.0005653    \n",
       " >50K :1518   1st Qu.:0.0297021    \n",
       "              Median :0.1333870    \n",
       "              Mean   :0.2435279    \n",
       "              3rd Qu.:0.3961939    \n",
       "              Max.   :0.9733522    "
      ]
     },
     "metadata": {},
     "output_type": "display_data"
    }
   ],
   "source": [
    "summary(training_set)\n",
    "summary(testing_set)"
   ]
  },
  {
   "cell_type": "code",
   "execution_count": 172,
   "metadata": {},
   "outputs": [
    {
     "name": "stdout",
     "output_type": "stream",
     "text": [
      "\n",
      "Confusion Matrix (rows=Predicted Response, columns=Actual Choice\n",
      "     \n",
      "      <=50K  >50K\n",
      "  NO  18183  2976\n",
      "  YES  1543  3347\n",
      "\n",
      "Percent Accuracy:  82.7"
     ]
    }
   ],
   "source": [
    "# predicted response to offer using using 0.5 cut-off\n",
    "# notice that this does not work due to low base rate\n",
    "# we get more than 90 percent correct with no model \n",
    "# (predicting all NO responses)\n",
    "# the 0.50 cutoff yields all NO predictions \n",
    "training_set$Predict_Response <- \n",
    "    ifelse((training_set$Predict_Prob_Response > 0.5), 2, 1)\n",
    "training_set$Predict_Response <- factor(training_set$Predict_Response,\n",
    "    levels = c(1, 2), labels = c(\"NO\", \"YES\"))  \n",
    "confusion_matrix <- table(training_set$Predict_Response, training_set$income)\n",
    "cat(\"\\nConfusion Matrix (rows=Predicted Response, columns=Actual Choice\\n\")\n",
    "print(confusion_matrix)\n",
    "predictive_accuracy <- (confusion_matrix[1,1] + confusion_matrix[2,2])/\n",
    "                        sum(confusion_matrix)                                              \n",
    "cat(\"\\nPercent Accuracy: \", round(predictive_accuracy * 100, digits = 1))\n"
   ]
  },
  {
   "cell_type": "code",
   "execution_count": 173,
   "metadata": {},
   "outputs": [
    {
     "name": "stdout",
     "output_type": "stream",
     "text": [
      "\n",
      "Confusion Matrix (rows=Predicted Response, columns=Actual Choice\n",
      "     \n",
      "      <=50K >50K\n",
      "  NO   4556  732\n",
      "  YES   438  786\n",
      "\n",
      "Percent Accuracy:  82"
     ]
    }
   ],
   "source": [
    "testing_set$Predict_Response <- \n",
    "    ifelse((testing_set$Predict_Prob_Response > 0.5), 2, 1)\n",
    "testing_set$Predict_Response <- factor(testing_set$Predict_Response,\n",
    "    levels = c(1, 2), labels = c(\"NO\", \"YES\"))  \n",
    "confusion_matrix <- table(testing_set$Predict_Response, testing_set$income)\n",
    "cat(\"\\nConfusion Matrix (rows=Predicted Response, columns=Actual Choice\\n\")\n",
    "print(confusion_matrix)\n",
    "predictive_accuracy <- (confusion_matrix[1,1] + confusion_matrix[2,2])/\n",
    "                        sum(confusion_matrix)                                              \n",
    "cat(\"\\nPercent Accuracy: \", round(predictive_accuracy * 100, digits = 1))"
   ]
  },
  {
   "cell_type": "markdown",
   "metadata": {},
   "source": [
    "# 3- Calculate lift and 10 Decile for logistic model"
   ]
  },
  {
   "cell_type": "code",
   "execution_count": 175,
   "metadata": {},
   "outputs": [
    {
     "name": "stdout",
     "output_type": "stream",
     "text": [
      "\n",
      "Lift Chart Values by Decile:\n",
      "training_set$decile: Decile_10\n",
      "[1] 0.01107027\n",
      "------------------------------------------------------------ \n",
      "training_set$decile: Decile_9\n",
      "[1] 0.03953668\n",
      "------------------------------------------------------------ \n",
      "training_set$decile: Decile_8\n",
      "[1] 0.1027954\n",
      "------------------------------------------------------------ \n",
      "training_set$decile: Decile_7\n",
      "[1] 0.1817989\n",
      "------------------------------------------------------------ \n",
      "training_set$decile: Decile_6\n",
      "[1] 0.3733696\n",
      "------------------------------------------------------------ \n",
      "training_set$decile: Decile_5\n",
      "[1] 0.745157\n",
      "------------------------------------------------------------ \n",
      "training_set$decile: Decile_4\n",
      "[1] 1.269918\n",
      "------------------------------------------------------------ \n",
      "training_set$decile: Decile_3\n",
      "[1] 1.731706\n",
      "------------------------------------------------------------ \n",
      "training_set$decile: Decile_2\n",
      "[1] 2.331082\n",
      "------------------------------------------------------------ \n",
      "training_set$decile: Decile_1\n",
      "[1] 3.213541\n"
     ]
    }
   ],
   "source": [
    "# --------------------------------------------------------\n",
    "# direct calculation of lift (code revised from textbook)\n",
    "baseline_response_rate <- \n",
    "    as.numeric(table(training_set$income)[2])/nrow(training_set)\n",
    "    \n",
    "lift <- function(x, baseline_response_rate) {\n",
    "    mean(x) / baseline_response_rate\n",
    "    }\n",
    "    \n",
    "decile_break_points <- c(as.numeric(quantile(training_set$Predict_Prob_Response,\n",
    "    probs=seq(0, 1, 0.10))))   \n",
    "    \n",
    "training_set$decile <- cut(training_set$Predict_Prob_Response,      \n",
    "    breaks = decile_break_points,\n",
    "    include.lowest=TRUE,\n",
    "    labels=c(\"Decile_10\",\"Decile_9\",\"Decile_8\",\"Decile_7\",\"Decile_6\",\n",
    "    \"Decile_5\",\"Decile_4\",\"Decile_3\",\"Decile_2\",\"Decile_1\"))    \n",
    "\n",
    "# define response as 0/1 binary \n",
    "training_set$response_binary <- as.numeric(training_set$income) - 1\n",
    "\n",
    "cat(\"\\nLift Chart Values by Decile:\\n\")    \n",
    "print(by(training_set$response_binary, training_set$decile, \n",
    "    function(x) lift(x, baseline_response_rate)))    \n",
    "\n"
   ]
  },
  {
   "cell_type": "code",
   "execution_count": 176,
   "metadata": {},
   "outputs": [
    {
     "name": "stdout",
     "output_type": "stream",
     "text": [
      "\n",
      "Lift Chart Values by Decile:\n",
      "testing_set$decile: Decile_10\n",
      "[1] 0.02623765\n",
      "------------------------------------------------------------ \n",
      "testing_set$decile: Decile_9\n",
      "[1] 0.0859293\n",
      "------------------------------------------------------------ \n",
      "testing_set$decile: Decile_8\n",
      "[1] 0.05271711\n",
      "------------------------------------------------------------ \n",
      "testing_set$decile: Decile_7\n",
      "[1] 0.237227\n",
      "------------------------------------------------------------ \n",
      "testing_set$decile: Decile_6\n",
      "[1] 0.329482\n",
      "------------------------------------------------------------ \n",
      "testing_set$decile: Decile_5\n",
      "[1] 0.8434738\n",
      "------------------------------------------------------------ \n",
      "testing_set$decile: Decile_4\n",
      "[1] 1.311338\n",
      "------------------------------------------------------------ \n",
      "testing_set$decile: Decile_3\n",
      "[1] 1.736997\n",
      "------------------------------------------------------------ \n",
      "testing_set$decile: Decile_2\n",
      "[1] 2.237324\n",
      "------------------------------------------------------------ \n",
      "testing_set$decile: Decile_1\n",
      "[1] 3.138437\n"
     ]
    }
   ],
   "source": [
    "# --------------------------------------------------------\n",
    "# direct calculation of lift (code revised from textbook)\n",
    "baseline_response_rate <- \n",
    "    as.numeric(table(testing_set$income)[2])/nrow(testing_set)\n",
    "    \n",
    "lift <- function(x, baseline_response_rate) {\n",
    "    mean(x) / baseline_response_rate\n",
    "    }\n",
    "    \n",
    "decile_break_points <- c(as.numeric(quantile(testing_set$Predict_Prob_Response,\n",
    "    probs=seq(0, 1, 0.10))))   \n",
    "    \n",
    "testing_set$decile <- cut(testing_set$Predict_Prob_Response,      \n",
    "    breaks = decile_break_points,\n",
    "    include.lowest=TRUE,\n",
    "    labels=c(\"Decile_10\",\"Decile_9\",\"Decile_8\",\"Decile_7\",\"Decile_6\",\n",
    "    \"Decile_5\",\"Decile_4\",\"Decile_3\",\"Decile_2\",\"Decile_1\"))    \n",
    "\n",
    "# define response as 0/1 binary \n",
    "testing_set$response_binary <- as.numeric(testing_set$income) - 1\n",
    "\n",
    "cat(\"\\nLift Chart Values by Decile:\\n\")    \n",
    "print(by(testing_set$response_binary, testing_set$decile, \n",
    "    function(x) lift(x, baseline_response_rate)))    "
   ]
  },
  {
   "cell_type": "markdown",
   "metadata": {},
   "source": [
    "# 4- Random Forest"
   ]
  },
  {
   "cell_type": "code",
   "execution_count": 177,
   "metadata": {},
   "outputs": [
    {
     "name": "stderr",
     "output_type": "stream",
     "text": [
      "Installing package into 'C:/Users/aries/Documents/R/win-library/3.4'\n",
      "(as 'lib' is unspecified)\n"
     ]
    },
    {
     "name": "stdout",
     "output_type": "stream",
     "text": [
      "package 'randomForest' successfully unpacked and MD5 sums checked\n",
      "\n",
      "The downloaded binary packages are in\n",
      "\tC:\\Users\\aries\\AppData\\Local\\Temp\\RtmpgBVM2t\\downloaded_packages\n"
     ]
    },
    {
     "name": "stderr",
     "output_type": "stream",
     "text": [
      "Warning message:\n",
      "\"package 'randomForest' was built under R version 3.4.4\"randomForest 4.6-14\n",
      "Type rfNews() to see new features/changes/bug fixes.\n",
      "\n",
      "Attaching package: 'randomForest'\n",
      "\n",
      "The following object is masked from 'package:ggplot2':\n",
      "\n",
      "    margin\n",
      "\n"
     ]
    }
   ],
   "source": [
    "install.packages(\"randomForest\")\n",
    "library(randomForest)"
   ]
  },
  {
   "cell_type": "code",
   "execution_count": 178,
   "metadata": {},
   "outputs": [
    {
     "data": {
      "text/plain": [
       "        \n",
       "rf3.pred <=50K >50K\n",
       "   <=50K  4994    0\n",
       "   >50K      0 1518"
      ]
     },
     "metadata": {},
     "output_type": "display_data"
    }
   ],
   "source": [
    "rf3 <- randomForest(income ~ ., data = training_set, ntree = 1000)\n",
    "rf3.pred.prob <- predict(rf3, newdata = testing_set, type = 'prob')\n",
    "rf3.pred <- predict(rf3, newdata = testing_set, type = 'class')\n",
    "# confusion matrix \n",
    "tb3 <- table(rf3.pred, testing_set$income)\n",
    "tb3"
   ]
  },
  {
   "cell_type": "markdown",
   "metadata": {},
   "source": [
    "# 5- SVM"
   ]
  },
  {
   "cell_type": "code",
   "execution_count": 180,
   "metadata": {},
   "outputs": [
    {
     "name": "stderr",
     "output_type": "stream",
     "text": [
      "Installing package into 'C:/Users/aries/Documents/R/win-library/3.4'\n",
      "(as 'lib' is unspecified)\n"
     ]
    },
    {
     "name": "stdout",
     "output_type": "stream",
     "text": [
      "package 'kernlab' successfully unpacked and MD5 sums checked\n",
      "\n",
      "The downloaded binary packages are in\n",
      "\tC:\\Users\\aries\\AppData\\Local\\Temp\\RtmpgBVM2t\\downloaded_packages\n"
     ]
    },
    {
     "name": "stderr",
     "output_type": "stream",
     "text": [
      "Warning message:\n",
      "\"package 'kernlab' was built under R version 3.4.4\"\n",
      "Attaching package: 'kernlab'\n",
      "\n",
      "The following object is masked from 'package:ggplot2':\n",
      "\n",
      "    alpha\n",
      "\n"
     ]
    }
   ],
   "source": [
    "install.packages(\"kernlab\")\n",
    "library(kernlab)"
   ]
  },
  {
   "cell_type": "code",
   "execution_count": 181,
   "metadata": {},
   "outputs": [
    {
     "data": {
      "text/plain": [
       "         \n",
       "svm4.pred <=50K >50K\n",
       "    <=50K  4994    0\n",
       "    >50K      0 1518"
      ]
     },
     "metadata": {},
     "output_type": "display_data"
    }
   ],
   "source": [
    "svm4 <- ksvm(income ~ ., data = training_set)\n",
    "svm4.pred.prob <- predict(svm4, newdata = testing_set, type = 'decision')\n",
    "svm4.pred <- predict(svm4, newdata = testing_set, type = 'response')\n",
    "# confusion matrix \n",
    "tb4 <- table(svm4.pred, testing_set$income)\n",
    "tb4"
   ]
  },
  {
   "cell_type": "markdown",
   "metadata": {},
   "source": [
    "# 6- Fit a simple Xgboost model with a cross validation and use Cross validation params  (not need parameter tuning)"
   ]
  },
  {
   "cell_type": "code",
   "execution_count": 142,
   "metadata": {
    "collapsed": true
   },
   "outputs": [],
   "source": [
    ".libPaths('~/R/win-library/3.4')"
   ]
  },
  {
   "cell_type": "code",
   "execution_count": 143,
   "metadata": {},
   "outputs": [
    {
     "name": "stderr",
     "output_type": "stream",
     "text": [
      "Installing package into 'C:/Users/aries/Documents/R/win-library/3.4'\n",
      "(as 'lib' is unspecified)\n"
     ]
    },
    {
     "name": "stdout",
     "output_type": "stream",
     "text": [
      "package 'data.table' successfully unpacked and MD5 sums checked\n"
     ]
    },
    {
     "name": "stderr",
     "output_type": "stream",
     "text": [
      "Warning message:\n",
      "\"cannot remove prior installation of package 'data.table'\""
     ]
    },
    {
     "name": "stdout",
     "output_type": "stream",
     "text": [
      "\n",
      "The downloaded binary packages are in\n",
      "\tC:\\Users\\aries\\AppData\\Local\\Temp\\RtmpgBVM2t\\downloaded_packages\n"
     ]
    },
    {
     "ename": "ERROR",
     "evalue": "Error in library(data.table): there is no package called 'data.table'\n",
     "output_type": "error",
     "traceback": [
      "Error in library(data.table): there is no package called 'data.table'\nTraceback:\n",
      "1. library(data.table)",
      "2. stop(txt, domain = NA)"
     ]
    }
   ],
   "source": [
    "install.packages(\"data.table\", dependencies=TRUE)\n",
    "library(data.table)"
   ]
  },
  {
   "cell_type": "code",
   "execution_count": null,
   "metadata": {
    "collapsed": true
   },
   "outputs": [],
   "source": [
    "setDT(training_set) \n",
    "setDT(testing_set)"
   ]
  },
  {
   "cell_type": "code",
   "execution_count": null,
   "metadata": {
    "collapsed": true
   },
   "outputs": [],
   "source": [
    "#using one hot encoding\n",
    "\n",
    "labels <- training_set$income \n",
    "ts_label <- testing_set$income"
   ]
  },
  {
   "cell_type": "code",
   "execution_count": null,
   "metadata": {
    "collapsed": true
   },
   "outputs": [],
   "source": [
    "# datada görülen katogorik degiskenler, one hot encoding\n",
    "\n",
    "new_tr <- model.matrix(~.+0,data = training_set[,-c(\"income\"),with=F]) \n",
    "new_ts <- model.matrix(~.+0,data = testing_set[,-c(\"income\"),with=F])"
   ]
  },
  {
   "cell_type": "code",
   "execution_count": null,
   "metadata": {
    "collapsed": true
   },
   "outputs": [],
   "source": [
    "#convert factor to numeric \n",
    "\n",
    "labels <- as.numeric(as.factor(labels))-1\n",
    "ts_label <- as.numeric(as.factor(ts_label))-1"
   ]
  },
  {
   "cell_type": "code",
   "execution_count": null,
   "metadata": {
    "collapsed": true
   },
   "outputs": [],
   "source": [
    "###For xgboost, we'll use xgb.DMatrix to convert data table into a matrix (most recommended):\n",
    "\n",
    "\n",
    "#preparing matrix \n",
    "dtrain <- xgb.DMatrix(data = new_tr,label = labels) \n",
    "dtest <- xgb.DMatrix(data = new_ts,label=ts_label)"
   ]
  },
  {
   "cell_type": "code",
   "execution_count": null,
   "metadata": {
    "collapsed": true
   },
   "outputs": [],
   "source": [
    "#default parameters\n",
    "params <- list(booster = \"gbtree\", objective = \"binary:logistic\", eta=0.01, gamma=0, max_depth=9, min_child_weight=1, subsample=1, colsample_bytree=1)\n",
    "\n",
    "#Using the inbuilt xgb.cv function, let's calculate the best nround for this model. In addition, this function also returns CV error, which is an estimate of test error.\n",
    "xgbcv <- xgb.cv( params = params, data = dtrain, nrounds = 300, nfold = 5, showsd = T, stratified = T, print_every_n = 10, early_stopping_rounds = 20, maximize = F)\n",
    "\n",
    "#first default - model training\n",
    "xgb1 <- xgb.train (params = params, data = dtrain, nrounds = 300, watchlist = list(val=dtest,train=dtrain), print_every_n  = 10, early_stopping_rounds= 10, maximize = F , eval_metric = \"auc\")\n",
    "\n",
    "\n",
    "#model prediction\n",
    "xgbpred <- predict (xgb1,dtest)\n",
    "xgbpred <- ifelse (xgbpred > 0.5,1,0)\n",
    "\n",
    "#confusion matrix\n",
    "\n",
    "confusionMatrix(xgbpred, ts_label)"
   ]
  },
  {
   "cell_type": "markdown",
   "metadata": {},
   "source": [
    "# 7- Show variable importance for Xgboost model"
   ]
  },
  {
   "cell_type": "code",
   "execution_count": null,
   "metadata": {
    "collapsed": true
   },
   "outputs": [],
   "source": [
    "#view variable importance plot\n",
    "mat <- xgb.importance (feature_names = colnames(new_tr),model = xgb1)\n",
    "xgb.ggplot.importance(mat,top_n = 30)"
   ]
  }
 ],
 "metadata": {
  "kernelspec": {
   "display_name": "R",
   "language": "R",
   "name": "ir"
  },
  "language_info": {
   "codemirror_mode": "r",
   "file_extension": ".r",
   "mimetype": "text/x-r-source",
   "name": "R",
   "pygments_lexer": "r",
   "version": "3.4.2"
  }
 },
 "nbformat": 4,
 "nbformat_minor": 2
}
